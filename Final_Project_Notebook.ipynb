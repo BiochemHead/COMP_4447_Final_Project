{
 "cells": [
  {
   "cell_type": "markdown",
   "id": "ef3c99a7",
   "metadata": {},
   "source": [
    "# Final Project Notebook"
   ]
  },
  {
   "cell_type": "markdown",
   "id": "69e39a2b",
   "metadata": {},
   "source": [
    "## Collaborators:\n",
    "- Ahmed Al Ayoubi\n",
    "- Chris Kirchberg\n",
    "- Harlan Kefalas"
   ]
  },
  {
   "cell_type": "markdown",
   "id": "0cd82fe2",
   "metadata": {},
   "source": [
    "## Motivation and Dataset:\n",
    "When looking for hikes, sometimes the rating and difficulty specified at websites do not always seem to meet expectations of those who hike the trail of interest.\n",
    "\n",
    "Taking a look a various websites, we settled on using www.hikingproject.com to scrap information from hikes in the state of Coloraod. Currently the site lists 5,855 trails that are curated by staff or users. Other sites like www.alltrails.com look like they would be good sites but have web scrapping blocks in place to make it very difficult to extract information."
   ]
  },
  {
   "cell_type": "markdown",
   "id": "32c5459d",
   "metadata": {},
   "source": [
    "## Task Definition/Research Question:\n",
    "As a prospective hiker of a trail, questions come to mind before choosing that trail to hike:\n",
    "- Does the ratings/difficulty stated by the reviewers match that of the currated trail?\n",
    "- Is there other information about the trail that might give us a better idea as what the trail should be rated?\n",
    "- Is there information that might corroborate the trails difficulty/rating either by the currator or the reviewers?\n",
    "\n",
    "Answers to these questions could possibly be gleaned by scraping data from website like www.hikingproject.com, cleaned and then explored by visualizations and simple summary statistics. This project seeks out to explore some possible answers and directions to these questions."
   ]
  },
  {
   "cell_type": "markdown",
   "id": "b5d31aaf",
   "metadata": {},
   "source": [
    "## Literature Review:\n",
    "Upon searching the web for similar types of tasks, APIs, or others who have attempted something similar, we ran accross this GitHub page: https://github.com/oschow/take-a-hike\n",
    "\n",
    "It used packages like Selenium, MongoDB, Pandas, sklearn and other resources to scrape infromation from www.alltrails.com, model, visualize and create a Hike Recommendation web app to find hikes that are similar to the hikers interests or whims.\n",
    "\n",
    "This seemed like a good start to try our hand at exploring ratings...until we ran into blocks in web scrapping AllTrails.com...and so our journey began."
   ]
  },
  {
   "cell_type": "markdown",
   "id": "6e2d39d5",
   "metadata": {},
   "source": [
    "## Data Cleaning:"
   ]
  },
  {
   "cell_type": "markdown",
   "id": "b2e8875b",
   "metadata": {},
   "source": [
    "## Visualizations:"
   ]
  },
  {
   "cell_type": "code",
   "execution_count": null,
   "id": "b3acc9ab",
   "metadata": {},
   "outputs": [],
   "source": []
  }
 ],
 "metadata": {
  "kernelspec": {
   "display_name": "Python 3 (ipykernel)",
   "language": "python",
   "name": "python3"
  },
  "language_info": {
   "codemirror_mode": {
    "name": "ipython",
    "version": 3
   },
   "file_extension": ".py",
   "mimetype": "text/x-python",
   "name": "python",
   "nbconvert_exporter": "python",
   "pygments_lexer": "ipython3",
   "version": "3.8.10"
  }
 },
 "nbformat": 4,
 "nbformat_minor": 5
}
