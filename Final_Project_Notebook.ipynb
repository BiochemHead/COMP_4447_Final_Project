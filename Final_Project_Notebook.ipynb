{
 "cells": [
  {
   "cell_type": "markdown",
   "id": "83889505",
   "metadata": {},
   "source": [
    "# Final Project Notebook"
   ]
  },
  {
   "cell_type": "markdown",
   "id": "f22de36a",
   "metadata": {},
   "source": [
    "## Collaborators:\n",
    "- Ahmed Al Ayoubi\n",
    "- Chris Kirchberg\n",
    "- Harlan Kefalas"
   ]
  },
  {
   "cell_type": "markdown",
   "id": "bd963134",
   "metadata": {},
   "source": [
    "## Dataset and motivation:"
   ]
  },
  {
   "cell_type": "markdown",
   "id": "97cfb8b5",
   "metadata": {},
   "source": [
    "## Task definition/Research Question:"
   ]
  },
  {
   "cell_type": "markdown",
   "id": "9fe1aeb0",
   "metadata": {},
   "source": [
    "## Literature review"
   ]
  },
  {
   "cell_type": "markdown",
   "id": "b10b6c54",
   "metadata": {},
   "source": [
    "## Data Cleaning"
   ]
  },
  {
   "cell_type": "code",
   "execution_count": null,
   "id": "4bc08f2d",
   "metadata": {},
   "outputs": [],
   "source": []
  }
 ],
 "metadata": {
  "kernelspec": {
   "display_name": "Python 3 (ipykernel)",
   "language": "python",
   "name": "python3"
  },
  "language_info": {
   "codemirror_mode": {
    "name": "ipython",
    "version": 3
   },
   "file_extension": ".py",
   "mimetype": "text/x-python",
   "name": "python",
   "nbconvert_exporter": "python",
   "pygments_lexer": "ipython3",
   "version": "3.8.10"
  }
 },
 "nbformat": 4,
 "nbformat_minor": 5
}
