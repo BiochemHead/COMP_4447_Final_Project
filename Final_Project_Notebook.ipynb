{
 "cells": [
  {
   "cell_type": "markdown",
   "id": "ef3c99a7",
   "metadata": {},
   "source": [
    "# Should We Trust that Hiking Trail Rating?"
   ]
  },
  {
   "cell_type": "markdown",
   "id": "69e39a2b",
   "metadata": {},
   "source": [
    "## Contributors:\n",
    "- Ahmed Al Ayoubi\n",
    "- Chris Kirchberg\n",
    "- Harlan Kefalas"
   ]
  },
  {
   "cell_type": "markdown",
   "id": "0cd82fe2",
   "metadata": {},
   "source": [
    "## Motivation and Dataset:\n",
    "When looking for hikes, sometimes the rating and difficulty specified at websites do not always seem to meet expectations of those who hike the trail of interest.\n",
    "\n",
    "Taking a look a various websites, we settled on using https://www.hikingproject.com to scrape information from hikes in the state of Colorado. Currently the site lists 5,855 trails in that state which are curated by staff or contibutors. Other sites like www.alltrails.com look like they would be good sites but have web scraping prevention tools in place which makes it difficult to extract information."
   ]
  },
  {
   "cell_type": "markdown",
   "id": "32c5459d",
   "metadata": {},
   "source": [
    "## Task Definition/Research Question:\n",
    "As a prospective hiker of a trail, questions come to mind before choosing that trail to hike:\n",
    "- Does the ratings/difficulty stated by the reviewers match that of the currated trail?\n",
    "- Is there other information about the trail that might give us a better idea as what the trail should be rated?\n",
    "- Is there information that might corroborate the trails difficulty/rating either by the currator or the reviewers?\n",
    "\n",
    "Answers to these questions could possibly be gleaned by scraping data from website like https://www.hikingproject.com, cleaned and then explored by visualizations and simple summary statistics. This project seeks out to explore some possible answers and directions to these questions."
   ]
  },
  {
   "cell_type": "markdown",
   "id": "b5d31aaf",
   "metadata": {},
   "source": [
    "## Literature Review:\n",
    "Upon searching the web for similar types of tasks, APIs, or others who have attempted something similar, we ran accross this GitHub page: https://github.com/oschow/take-a-hike\n",
    "\n",
    "It used packages like Selenium, MongoDB, Pandas, sklearn and other resources to scrape infromation from www.alltrails.com, model, visualize and create a Hike Recommendation web app to find hikes that are similar to the hikers interests or whims.\n",
    "\n",
    "This seemed like a good start to try our hand at exploring ratings...until we ran into blocks in web scrapping AllTrails.com...and so our journey began."
   ]
  },
  {
   "cell_type": "markdown",
   "id": "6e2d39d5",
   "metadata": {},
   "source": [
    "## Data Cleaning:"
   ]
  },
  {
   "attachments": {},
   "cell_type": "markdown",
   "id": "4c9aee2d",
   "metadata": {},
   "source": [
    "Insert Steps and Findings here. Possibly some summary stats and data types."
   ]
  },
  {
   "cell_type": "code",
   "execution_count": null,
   "id": "0d546899",
   "metadata": {},
   "outputs": [],
   "source": []
  },
  {
   "cell_type": "markdown",
   "id": "b2e8875b",
   "metadata": {},
   "source": [
    "## Visualizations:"
   ]
  },
  {
   "attachments": {},
   "cell_type": "markdown",
   "id": "6be0b543",
   "metadata": {},
   "source": [
    "Insert types of visualizaitons and why. What can we get out of it. Distributions on each feature/variable. Plot of difficulty vs. user entered difficulty. Plotting different variables/features vs. average rating. Save more difficulty level. Distribution of ratings (use a heatmap and cluster using Seaborn).  Try multple regression of features to see what might impact rating the most (not a predicite model, but a descriptive model)."
   ]
  },
  {
   "cell_type": "code",
   "execution_count": 9,
   "id": "b3acc9ab",
   "metadata": {},
   "outputs": [
    {
     "name": "stdout",
     "output_type": "stream",
     "text": [
      "<class 'pandas.core.frame.DataFrame'>\n",
      "RangeIndex: 3364 entries, 0 to 3363\n",
      "Data columns (total 20 columns):\n",
      " #   Column             Non-Null Count  Dtype  \n",
      "---  ------             --------------  -----  \n",
      " 0   Trail Name         3364 non-null   object \n",
      " 1   State              3364 non-null   object \n",
      " 2   City               3364 non-null   object \n",
      " 3   Area               2610 non-null   object \n",
      " 4   Site               232 non-null    object \n",
      " 5   Trail Length       3364 non-null   float64\n",
      " 6   Trail Difficulty   3364 non-null   object \n",
      " 7   Difficulty Number  3364 non-null   int64  \n",
      " 8   Trail Rating       2958 non-null   float64\n",
      " 9   User Review        2958 non-null   object \n",
      " 10  Trail Type         3364 non-null   object \n",
      " 11  Elev_Up            3364 non-null   float64\n",
      " 12  Elev_Down          3364 non-null   float64\n",
      " 13  Highest Elevation  3364 non-null   float64\n",
      " 14  Lowest Elevation   3364 non-null   float64\n",
      " 15  Average Grade      3364 non-null   float64\n",
      " 16  Max Grade          3364 non-null   float64\n",
      " 17  Dogs               2320 non-null   object \n",
      " 18  Features           1972 non-null   object \n",
      " 19  Stats Info.        3364 non-null   object \n",
      "dtypes: float64(8), int64(1), object(11)\n",
      "memory usage: 525.8+ KB\n"
     ]
    },
    {
     "data": {
      "text/html": [
       "<div>\n",
       "<style scoped>\n",
       "    .dataframe tbody tr th:only-of-type {\n",
       "        vertical-align: middle;\n",
       "    }\n",
       "\n",
       "    .dataframe tbody tr th {\n",
       "        vertical-align: top;\n",
       "    }\n",
       "\n",
       "    .dataframe thead th {\n",
       "        text-align: right;\n",
       "    }\n",
       "</style>\n",
       "<table border=\"1\" class=\"dataframe\">\n",
       "  <thead>\n",
       "    <tr style=\"text-align: right;\">\n",
       "      <th></th>\n",
       "      <th>Trail Length</th>\n",
       "      <th>Difficulty Number</th>\n",
       "      <th>Trail Rating</th>\n",
       "      <th>Elev_Up</th>\n",
       "      <th>Elev_Down</th>\n",
       "      <th>Highest Elevation</th>\n",
       "      <th>Lowest Elevation</th>\n",
       "      <th>Average Grade</th>\n",
       "      <th>Max Grade</th>\n",
       "    </tr>\n",
       "  </thead>\n",
       "  <tbody>\n",
       "    <tr>\n",
       "      <th>count</th>\n",
       "      <td>3364.000000</td>\n",
       "      <td>3364.000000</td>\n",
       "      <td>2958.000000</td>\n",
       "      <td>3364.000000</td>\n",
       "      <td>3364.000000</td>\n",
       "      <td>3364.000000</td>\n",
       "      <td>3364.000000</td>\n",
       "      <td>3364.000000</td>\n",
       "      <td>3364.000000</td>\n",
       "    </tr>\n",
       "    <tr>\n",
       "      <th>mean</th>\n",
       "      <td>3.506897</td>\n",
       "      <td>2.189655</td>\n",
       "      <td>3.368627</td>\n",
       "      <td>565.637931</td>\n",
       "      <td>349.931034</td>\n",
       "      <td>6810.465517</td>\n",
       "      <td>6293.258621</td>\n",
       "      <td>0.046034</td>\n",
       "      <td>0.143448</td>\n",
       "    </tr>\n",
       "    <tr>\n",
       "      <th>std</th>\n",
       "      <td>4.465425</td>\n",
       "      <td>1.332255</td>\n",
       "      <td>0.748586</td>\n",
       "      <td>1187.185556</td>\n",
       "      <td>842.813708</td>\n",
       "      <td>1974.600376</td>\n",
       "      <td>1396.786628</td>\n",
       "      <td>0.051668</td>\n",
       "      <td>0.148434</td>\n",
       "    </tr>\n",
       "    <tr>\n",
       "      <th>min</th>\n",
       "      <td>0.100000</td>\n",
       "      <td>1.000000</td>\n",
       "      <td>2.000000</td>\n",
       "      <td>0.000000</td>\n",
       "      <td>0.000000</td>\n",
       "      <td>5135.000000</td>\n",
       "      <td>5044.000000</td>\n",
       "      <td>0.000000</td>\n",
       "      <td>0.010000</td>\n",
       "    </tr>\n",
       "    <tr>\n",
       "      <th>25%</th>\n",
       "      <td>1.300000</td>\n",
       "      <td>1.000000</td>\n",
       "      <td>3.000000</td>\n",
       "      <td>22.000000</td>\n",
       "      <td>14.000000</td>\n",
       "      <td>5381.000000</td>\n",
       "      <td>5280.000000</td>\n",
       "      <td>0.010000</td>\n",
       "      <td>0.030000</td>\n",
       "    </tr>\n",
       "    <tr>\n",
       "      <th>50%</th>\n",
       "      <td>2.000000</td>\n",
       "      <td>2.000000</td>\n",
       "      <td>3.500000</td>\n",
       "      <td>72.500000</td>\n",
       "      <td>92.000000</td>\n",
       "      <td>5999.500000</td>\n",
       "      <td>5696.500000</td>\n",
       "      <td>0.020000</td>\n",
       "      <td>0.100000</td>\n",
       "    </tr>\n",
       "    <tr>\n",
       "      <th>75%</th>\n",
       "      <td>2.600000</td>\n",
       "      <td>3.000000</td>\n",
       "      <td>4.000000</td>\n",
       "      <td>657.000000</td>\n",
       "      <td>346.000000</td>\n",
       "      <td>7132.000000</td>\n",
       "      <td>6771.000000</td>\n",
       "      <td>0.070000</td>\n",
       "      <td>0.190000</td>\n",
       "    </tr>\n",
       "    <tr>\n",
       "      <th>max</th>\n",
       "      <td>22.100000</td>\n",
       "      <td>5.000000</td>\n",
       "      <td>4.700000</td>\n",
       "      <td>6930.000000</td>\n",
       "      <td>5527.000000</td>\n",
       "      <td>13247.000000</td>\n",
       "      <td>10423.000000</td>\n",
       "      <td>0.280000</td>\n",
       "      <td>0.620000</td>\n",
       "    </tr>\n",
       "  </tbody>\n",
       "</table>\n",
       "</div>"
      ],
      "text/plain": [
       "       Trail Length  Difficulty Number  Trail Rating      Elev_Up  \\\n",
       "count   3364.000000        3364.000000   2958.000000  3364.000000   \n",
       "mean       3.506897           2.189655      3.368627   565.637931   \n",
       "std        4.465425           1.332255      0.748586  1187.185556   \n",
       "min        0.100000           1.000000      2.000000     0.000000   \n",
       "25%        1.300000           1.000000      3.000000    22.000000   \n",
       "50%        2.000000           2.000000      3.500000    72.500000   \n",
       "75%        2.600000           3.000000      4.000000   657.000000   \n",
       "max       22.100000           5.000000      4.700000  6930.000000   \n",
       "\n",
       "         Elev_Down  Highest Elevation  Lowest Elevation  Average Grade  \\\n",
       "count  3364.000000        3364.000000       3364.000000    3364.000000   \n",
       "mean    349.931034        6810.465517       6293.258621       0.046034   \n",
       "std     842.813708        1974.600376       1396.786628       0.051668   \n",
       "min       0.000000        5135.000000       5044.000000       0.000000   \n",
       "25%      14.000000        5381.000000       5280.000000       0.010000   \n",
       "50%      92.000000        5999.500000       5696.500000       0.020000   \n",
       "75%     346.000000        7132.000000       6771.000000       0.070000   \n",
       "max    5527.000000       13247.000000      10423.000000       0.280000   \n",
       "\n",
       "         Max Grade  \n",
       "count  3364.000000  \n",
       "mean      0.143448  \n",
       "std       0.148434  \n",
       "min       0.010000  \n",
       "25%       0.030000  \n",
       "50%       0.100000  \n",
       "75%       0.190000  \n",
       "max       0.620000  "
      ]
     },
     "metadata": {},
     "output_type": "display_data"
    },
    {
     "data": {
      "text/html": [
       "<div>\n",
       "<style scoped>\n",
       "    .dataframe tbody tr th:only-of-type {\n",
       "        vertical-align: middle;\n",
       "    }\n",
       "\n",
       "    .dataframe tbody tr th {\n",
       "        vertical-align: top;\n",
       "    }\n",
       "\n",
       "    .dataframe thead th {\n",
       "        text-align: right;\n",
       "    }\n",
       "</style>\n",
       "<table border=\"1\" class=\"dataframe\">\n",
       "  <thead>\n",
       "    <tr style=\"text-align: right;\">\n",
       "      <th></th>\n",
       "      <th>Dogs</th>\n",
       "    </tr>\n",
       "  </thead>\n",
       "  <tbody>\n",
       "    <tr>\n",
       "      <th>Leashed</th>\n",
       "      <td>1450</td>\n",
       "    </tr>\n",
       "    <tr>\n",
       "      <th>NaN</th>\n",
       "      <td>1044</td>\n",
       "    </tr>\n",
       "    <tr>\n",
       "      <th>Off-leash</th>\n",
       "      <td>638</td>\n",
       "    </tr>\n",
       "    <tr>\n",
       "      <th>No</th>\n",
       "      <td>232</td>\n",
       "    </tr>\n",
       "  </tbody>\n",
       "</table>\n",
       "</div>"
      ],
      "text/plain": [
       "           Dogs\n",
       "Leashed    1450\n",
       "NaN        1044\n",
       "Off-leash   638\n",
       "No          232"
      ]
     },
     "metadata": {},
     "output_type": "display_data"
    },
    {
     "data": {
      "text/html": [
       "<div>\n",
       "<style scoped>\n",
       "    .dataframe tbody tr th:only-of-type {\n",
       "        vertical-align: middle;\n",
       "    }\n",
       "\n",
       "    .dataframe tbody tr th {\n",
       "        vertical-align: top;\n",
       "    }\n",
       "\n",
       "    .dataframe thead th {\n",
       "        text-align: right;\n",
       "    }\n",
       "</style>\n",
       "<table border=\"1\" class=\"dataframe\">\n",
       "  <thead>\n",
       "    <tr style=\"text-align: right;\">\n",
       "      <th></th>\n",
       "      <th>Trail Difficulty</th>\n",
       "    </tr>\n",
       "  </thead>\n",
       "  <tbody>\n",
       "    <tr>\n",
       "      <th>EASY</th>\n",
       "      <td>1566</td>\n",
       "    </tr>\n",
       "    <tr>\n",
       "      <th>INTERMEDIATE</th>\n",
       "      <td>754</td>\n",
       "    </tr>\n",
       "    <tr>\n",
       "      <th>EASY/INTERMEDIATE</th>\n",
       "      <td>464</td>\n",
       "    </tr>\n",
       "    <tr>\n",
       "      <th>DIFFICULT</th>\n",
       "      <td>290</td>\n",
       "    </tr>\n",
       "    <tr>\n",
       "      <th>INTERMEDIATE/DIFFICULT</th>\n",
       "      <td>290</td>\n",
       "    </tr>\n",
       "  </tbody>\n",
       "</table>\n",
       "</div>"
      ],
      "text/plain": [
       "                        Trail Difficulty\n",
       "EASY                                1566\n",
       "INTERMEDIATE                         754\n",
       "EASY/INTERMEDIATE                    464\n",
       "DIFFICULT                            290\n",
       "INTERMEDIATE/DIFFICULT               290"
      ]
     },
     "metadata": {},
     "output_type": "display_data"
    },
    {
     "data": {
      "text/plain": [
       "<AxesSubplot: xlabel='Difficulty Number', ylabel='Trail Rating'>"
      ]
     },
     "execution_count": 9,
     "metadata": {},
     "output_type": "execute_result"
    },
    {
     "data": {
      "image/png": "[encoded data removed]",
      "text/plain": [
       "<Figure size 640x480 with 9 Axes>"
      ]
     },
     "metadata": {},
     "output_type": "display_data"
    },
    {
     "data": {
      "image/png": "[encoded data removed]",
      "text/plain": [
       "<Figure size 640x480 with 1 Axes>"
      ]
     },
     "metadata": {},
     "output_type": "display_data"
    },
    {
     "data": {
      "image/png": "[encoded data removed]",
      "text/plain": [
       "<Figure size 640x480 with 1 Axes>"
      ]
     },
     "metadata": {},
     "output_type": "display_data"
    }
   ],
   "source": [
    "import pandas as pd\n",
    "import numpy as np\n",
    "import matplotlib as plt\n",
    "import seaborn as sb\n",
    "from sklearn import linear_model\n",
    "import statsmodels.api as sm\n",
    "\n",
    "# Read the cleaned hiking dataset pickle file  \n",
    "df = pd.read_pickle(\"./Hiking Project/scrape_clean//hike_project_cln_data.pkl\")\n",
    "\n",
    "df.info()\n",
    "display(df.describe())\n",
    "display(df['Dogs'].value_counts(dropna=False).to_frame())\n",
    "display(df['Trail Difficulty'].value_counts(dropna=False).to_frame())\n",
    "df.hist()\n",
    "df.plot.scatter(x='Max Grade',y='Difficulty Number')\n",
    "df.plot.scatter(x='Difficulty Number',y='Trail Rating')"
   ]
  }
 ],
 "metadata": {
  "kernelspec": {
   "display_name": "FP_venv",
   "language": "python",
   "name": "python3"
  },
  "language_info": {
   "codemirror_mode": {
    "name": "ipython",
    "version": 3
   },
   "file_extension": ".py",
   "mimetype": "text/x-python",
   "name": "python",
   "nbconvert_exporter": "python",
   "pygments_lexer": "ipython3",
   "version": "3.8.10"
  },
  "vscode": {
   "interpreter": {
    "hash": "1203529e702239b2caaf395d67d7adae29c9ecf12cd2dfd795657e8b407778c3"
   }
  }
 },
 "nbformat": 4,
 "nbformat_minor": 5
}
